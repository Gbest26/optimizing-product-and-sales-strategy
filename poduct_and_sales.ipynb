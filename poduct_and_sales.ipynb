{
 "cells": [
  {
   "cell_type": "code",
   "execution_count": 1,
   "id": "a847dc48",
   "metadata": {},
   "outputs": [],
   "source": [
    "import warnings\n",
    "import pandas as pd\n",
    "import numpy as np\n",
    "import matplotlib.pyplot as plt\n",
    "import pickle\n",
    "\n",
    "from sklearn.linear_model import LinearRegression, Ridge\n",
    "from sklearn.metrics import mean_absolute_error\n",
    "from category_encoders import OneHotEncoder\n",
    "from sklearn.pipeline import  Pipeline, make_pipeline\n",
    "from sklearn.impute import SimpleImputer\n",
    "from sklearn.model_selection import train_test_split\n",
    "\n",
    "warnings.filterwarnings(\"ignore\")"
   ]
  },
  {
   "cell_type": "code",
   "execution_count": 2,
   "id": "7c113bbe",
   "metadata": {},
   "outputs": [
    {
     "name": "stdout",
     "output_type": "stream",
     "text": [
      "Selected 434000 rows out of 868000 total rows and saved to 'sampled_project_dataset.csv'\n"
     ]
    },
    {
     "data": {
      "text/html": [
       "<div>\n",
       "<style scoped>\n",
       "    .dataframe tbody tr th:only-of-type {\n",
       "        vertical-align: middle;\n",
       "    }\n",
       "\n",
       "    .dataframe tbody tr th {\n",
       "        vertical-align: top;\n",
       "    }\n",
       "\n",
       "    .dataframe thead th {\n",
       "        text-align: right;\n",
       "    }\n",
       "</style>\n",
       "<table border=\"1\" class=\"dataframe\">\n",
       "  <thead>\n",
       "    <tr style=\"text-align: right;\">\n",
       "      <th></th>\n",
       "      <th>Countries</th>\n",
       "      <th>Seasons</th>\n",
       "      <th>Healthy Foods</th>\n",
       "      <th>Unit of Measurement</th>\n",
       "      <th>Measurement Type</th>\n",
       "      <th>Price(USD)</th>\n",
       "    </tr>\n",
       "  </thead>\n",
       "  <tbody>\n",
       "    <tr>\n",
       "      <th>801046</th>\n",
       "      <td>Switzerland</td>\n",
       "      <td>Spring</td>\n",
       "      <td>Carrots</td>\n",
       "      <td>500</td>\n",
       "      <td>Grams</td>\n",
       "      <td>2.13</td>\n",
       "    </tr>\n",
       "    <tr>\n",
       "      <th>554286</th>\n",
       "      <td>Belgium</td>\n",
       "      <td>Spring</td>\n",
       "      <td>Papaya</td>\n",
       "      <td>1</td>\n",
       "      <td>Piece</td>\n",
       "      <td>2.56</td>\n",
       "    </tr>\n",
       "    <tr>\n",
       "      <th>273396</th>\n",
       "      <td>Botswana</td>\n",
       "      <td>Dry Season</td>\n",
       "      <td>Bell Peppers</td>\n",
       "      <td>1</td>\n",
       "      <td>Piece</td>\n",
       "      <td>1.14</td>\n",
       "    </tr>\n",
       "    <tr>\n",
       "      <th>840758</th>\n",
       "      <td>United Kingdom</td>\n",
       "      <td>Fall</td>\n",
       "      <td>Garlic</td>\n",
       "      <td>50</td>\n",
       "      <td>Grams Per Bulk</td>\n",
       "      <td>1.77</td>\n",
       "    </tr>\n",
       "    <tr>\n",
       "      <th>464925</th>\n",
       "      <td>Tanzania</td>\n",
       "      <td>Dry Season</td>\n",
       "      <td>Broccoli</td>\n",
       "      <td>250</td>\n",
       "      <td>Grams</td>\n",
       "      <td>3.44</td>\n",
       "    </tr>\n",
       "    <tr>\n",
       "      <th>...</th>\n",
       "      <td>...</td>\n",
       "      <td>...</td>\n",
       "      <td>...</td>\n",
       "      <td>...</td>\n",
       "      <td>...</td>\n",
       "      <td>...</td>\n",
       "    </tr>\n",
       "    <tr>\n",
       "      <th>259178</th>\n",
       "      <td>Azerbaijan</td>\n",
       "      <td>Winter</td>\n",
       "      <td>Honey</td>\n",
       "      <td>250</td>\n",
       "      <td>Grams</td>\n",
       "      <td>6.04</td>\n",
       "    </tr>\n",
       "    <tr>\n",
       "      <th>365838</th>\n",
       "      <td>Lebanon</td>\n",
       "      <td>Winter</td>\n",
       "      <td>Seaweed</td>\n",
       "      <td>50</td>\n",
       "      <td>Grams</td>\n",
       "      <td>5.75</td>\n",
       "    </tr>\n",
       "    <tr>\n",
       "      <th>131932</th>\n",
       "      <td>Mauritania</td>\n",
       "      <td>Summer</td>\n",
       "      <td>Sweet Potatoes</td>\n",
       "      <td>1</td>\n",
       "      <td>Bulk</td>\n",
       "      <td>1.18</td>\n",
       "    </tr>\n",
       "    <tr>\n",
       "      <th>671155</th>\n",
       "      <td>Lithuania</td>\n",
       "      <td>Spring</td>\n",
       "      <td>Hemp Seeds</td>\n",
       "      <td>100</td>\n",
       "      <td>Grams</td>\n",
       "      <td>8.98</td>\n",
       "    </tr>\n",
       "    <tr>\n",
       "      <th>121958</th>\n",
       "      <td>Macedonia</td>\n",
       "      <td>Summer</td>\n",
       "      <td>Lentils</td>\n",
       "      <td>500</td>\n",
       "      <td>Grams</td>\n",
       "      <td>1.85</td>\n",
       "    </tr>\n",
       "  </tbody>\n",
       "</table>\n",
       "<p>434000 rows × 6 columns</p>\n",
       "</div>"
      ],
      "text/plain": [
       "             Countries     Seasons   Healthy Foods  Unit of Measurement  \\\n",
       "801046     Switzerland      Spring         Carrots                  500   \n",
       "554286         Belgium      Spring          Papaya                    1   \n",
       "273396        Botswana  Dry Season    Bell Peppers                    1   \n",
       "840758  United Kingdom        Fall          Garlic                   50   \n",
       "464925        Tanzania  Dry Season        Broccoli                  250   \n",
       "...                ...         ...             ...                  ...   \n",
       "259178      Azerbaijan      Winter           Honey                  250   \n",
       "365838         Lebanon      Winter         Seaweed                   50   \n",
       "131932      Mauritania      Summer  Sweet Potatoes                    1   \n",
       "671155       Lithuania      Spring      Hemp Seeds                  100   \n",
       "121958       Macedonia      Summer         Lentils                  500   \n",
       "\n",
       "       Measurement Type  Price(USD)  \n",
       "801046            Grams        2.13  \n",
       "554286            Piece        2.56  \n",
       "273396            Piece        1.14  \n",
       "840758   Grams Per Bulk        1.77  \n",
       "464925            Grams        3.44  \n",
       "...                 ...         ...  \n",
       "259178            Grams        6.04  \n",
       "365838            Grams        5.75  \n",
       "131932             Bulk        1.18  \n",
       "671155            Grams        8.98  \n",
       "121958            Grams        1.85  \n",
       "\n",
       "[434000 rows x 6 columns]"
      ]
     },
     "execution_count": 2,
     "metadata": {},
     "output_type": "execute_result"
    }
   ],
   "source": [
    "df = pd.read_csv(\"product seasonal sales.csv\").drop(columns=['Cities', 'Vitamin_1', 'Vitamin_2' ,'Mineral'])\n",
    "\n",
    "df_sample, _ = train_test_split(df, test_size=0.5, random_state=42)\n",
    "\n",
    "df_sample.to_csv(\"product_and_sales_dataset.csv\", index=False)\n",
    "\n",
    "print(f\"Selected {len(df_sample)} rows out of {len(df)} total rows and saved to 'sampled_project_dataset.csv'\")\n",
    "df_sample"
   ]
  },
  {
   "cell_type": "code",
   "execution_count": 265,
   "id": "7a28f8e3",
   "metadata": {},
   "outputs": [],
   "source": [
    "target = \"Price(USD)\"\n",
    "y = df_sample[target]\n",
    "X = df_sample.drop(columns=[target])"
   ]
  },
  {
   "cell_type": "code",
   "execution_count": 266,
   "id": "411c24c1",
   "metadata": {},
   "outputs": [
    {
     "name": "stdout",
     "output_type": "stream",
     "text": [
      "mean P2 readings: 4.44\n",
      "mae baseline readings: 2.46\n"
     ]
    }
   ],
   "source": [
    "y_mean = y.mean()\n",
    "y_pred_baseline  = [y_mean] * len(y)\n",
    "mae_baseline = mean_absolute_error(y, y_pred_baseline)\n",
    "print(\"mean P2 readings:\", round(y_mean, 2))\n",
    "print(\"mae baseline readings:\", round(mae_baseline, 2))"
   ]
  },
  {
   "cell_type": "code",
   "execution_count": 267,
   "id": "2e34f1de",
   "metadata": {
    "scrolled": true
   },
   "outputs": [
    {
     "name": "stdout",
     "output_type": "stream",
     "text": [
      "(347200, 5)\n",
      "(347200,)\n",
      "(86800, 5)\n",
      "(86800,)\n"
     ]
    }
   ],
   "source": [
    "X_train, X_test, y_train, y_test = train_test_split(\n",
    "    X, y, test_size=0.2, random_state=40\n",
    ")\n",
    "print(X_train.shape)\n",
    "print(y_train.shape)\n",
    "print(X_test.shape)\n",
    "print(y_test.shape)"
   ]
  },
  {
   "cell_type": "code",
   "execution_count": 268,
   "id": "42041d01",
   "metadata": {},
   "outputs": [],
   "source": [
    "ohe = OneHotEncoder().fit(X_train)\n",
    "\n",
    "xt = ohe.transform(X_train)\n",
    "\n",
    "imputer = SimpleImputer().fit(xt)\n",
    "\n",
    "xt_train = imputer.transform(xt)"
   ]
  },
  {
   "cell_type": "code",
   "execution_count": 269,
   "id": "7c493250",
   "metadata": {},
   "outputs": [
    {
     "data": {
      "text/plain": [
       "Pipeline(steps=[('onehotencoder',\n",
       "                 OneHotEncoder(cols=['Countries', 'Seasons', 'Healthy Foods',\n",
       "                                     'Measurement Type'],\n",
       "                               use_cat_names=True)),\n",
       "                ('simpleimputer', SimpleImputer()), ('ridge', Ridge())])"
      ]
     },
     "execution_count": 269,
     "metadata": {},
     "output_type": "execute_result"
    }
   ],
   "source": [
    "model = make_pipeline(\n",
    "    OneHotEncoder(use_cat_names=True),\n",
    "    SimpleImputer(),\n",
    "    Ridge()\n",
    ").fit(X_train,y_train)\n",
    "model"
   ]
  },
  {
   "cell_type": "code",
   "execution_count": null,
   "id": "8a5e83f1",
   "metadata": {},
   "outputs": [
    {
     "name": "stdout",
     "output_type": "stream",
     "text": [
      "MAE training: 0.85\n",
      "MAE test: 0.85\n"
     ]
    }
   ],
   "source": [
    "mae_train= mean_absolute_error(y_train, model.predict(X_train))\n",
    "mae_test = mean_absolute_error(y_test, model.predict(X_test))\n",
    "\n",
    "print(\"MAE training:\", mae_train.round(2))\n",
    "print(\"MAE test:\", mae_test.round(2))"
   ]
  },
  {
   "cell_type": "code",
   "execution_count": null,
   "id": "8d97e5e2",
   "metadata": {},
   "outputs": [],
   "source": [
    "intercept = model.named_steps[\"ridge\"].intercept_\n",
    "coefficient = model.named_steps[\"ridge\"].coef_\n",
    "print(\"intercept:\", intercept.round(2))\n",
    "print(\"coefficient:\", coefficient[:5])"
   ]
  },
  {
   "cell_type": "code",
   "execution_count": null,
   "id": "86877861",
   "metadata": {},
   "outputs": [],
   "source": [
    "with open('production_and_sales_model.pkl', 'wb') as file:\n",
    "    pickle.dump(model, file)\n",
    "    \n",
    "print(\"Model saved successfully as 'trained_regression_model.pkl'!\")"
   ]
  },
  {
   "cell_type": "code",
   "execution_count": null,
   "id": "7546444a",
   "metadata": {},
   "outputs": [],
   "source": [
    "with open('production_and_sales_model.pkl', 'rb') as file:\n",
    "    loaded_model = pickle.load(file)"
   ]
  },
  {
   "cell_type": "code",
   "execution_count": null,
   "id": "07bd0773",
   "metadata": {},
   "outputs": [],
   "source": [
    "loaded_predictions = loaded_model.predict(X_test)\n",
    "print(\"Loaded model predictions:\", loaded_predictions)"
   ]
  },
  {
   "cell_type": "code",
   "execution_count": null,
   "id": "12533204",
   "metadata": {},
   "outputs": [],
   "source": [
    "input_data = {\n",
    "    \"Countries\": [\"Nigeria\"],\n",
    "    \"Seasons\": [\"Dry Season\"],\n",
    "    \"Healthy Foods\": [\"Garlic\"],\n",
    "    \"Unit of Measurement\": [50],  # Quantity is 1 Kilogram\n",
    "    \"Measurement Type\": [\"Grams per Bulk\"]\n",
    "}\n",
    "\n",
    "# Convert input_data to a DataFrame\n",
    "input_df = pd.DataFrame(input_data)\n",
    "\n",
    "# Use your trained model to predict the price (assuming `model` is your trained pipeline)\n",
    "predicted_price = loaded_model.predict(input_df)\n",
    "\n",
    "print(f\"Predicted Price : ${round(predicted_price[0], 2)}\")\n",
    "#print(predicted_price[0] * input_df[Unit of Measurement])"
   ]
  },
  {
   "cell_type": "code",
   "execution_count": 6,
   "id": "a541f39a",
   "metadata": {},
   "outputs": [
    {
     "name": "stdout",
     "output_type": "stream",
     "text": [
      "b'[1.7023543850409846, 1.9004708870182823, 2.050600341285131, 1.2038314784906712, 2.803756317851423, 12.534168463661793, 4.016228192131021, 14.548059384097506, 3.9836170625551715]'\n"
     ]
    }
   ],
   "source": [
    "  import urllib.request\n",
    "import json\n",
    "import os\n",
    "import ssl\n",
    "\n",
    "def allowSelfSignedHttps(allowed):\n",
    "    # bypass the server certificate verification on client side\n",
    "    if allowed and not os.environ.get('PYTHONHTTPSVERIFY', '') and getattr(ssl, '_create_unverified_context', None):\n",
    "        ssl._create_default_https_context = ssl._create_unverified_context\n",
    "\n",
    "allowSelfSignedHttps(True) # this line is needed if you use self-signed certificate in your scoring service.\n",
    "\n",
    "# Request data goes here\n",
    "data = {\n",
    "  \"input_data\": {\n",
    "    \"columns\": [\n",
    "      \"Countries\",\n",
    "      \"Seasons\",\n",
    "      \"Healthy Foods\",\n",
    "      \"Unit of Measurement\",\n",
    "      \"Measurement Type\"\n",
    "    ],\n",
    "    \"index\": [0, 1, 2, 3, 4, 5, 6, 7, 8],\n",
    "    \"data\": [\n",
    "      [\"Switzerland\", \"Spring\", \"Carrots\", 500, \"Grams\"],\n",
    "      [\"Belgium\", \"Spring\", \"Papaya\", 1, \"Piece\"],\n",
    "      [\"Botswana\", \"Dry Season\", \"Bell Peppers\", 1, \"Piece\"],\n",
    "      [\"United Kingdom\", \"Fall\", \"Garlic\", 50, \"Grams Per Bulk\"],\n",
    "      [\"Tanzania\", \"Dry Season\", \"Broccoli\", 250, \"Grams\"],\n",
    "      [\"Moldova\", \"Winter\", \"Goji Berries\", 100, \"Grams\"],\n",
    "      [\"Russia\", \"Spring\", \"Dark Chocolate\", 50, \"Grams\"],\n",
    "      [\"United States\", \"Summer\", \"Matcha\", 30, \"Grams\"],\n",
    "      [\"Germany\", \"Fall\", \"Raspberries\", 125, \"Grams\"]\n",
    "    ]\n",
    "  }\n",
    "}\n",
    "\n",
    "\n",
    "body = str.encode(json.dumps(data))\n",
    "\n",
    "url = 'https://optimizing-production-and-jfimz.eastus2.inference.ml.azure.com/score'\n",
    "# Replace this with the primary/secondary key, AMLToken, or Microsoft Entra ID token for the endpoint\n",
    "api_key = 'eOgSsBbK4luONHPTVCOgrAZs6vLrsyXE'\n",
    "if not api_key:\n",
    "    raise Exception(\"A key should be provided to invoke the endpoint\")\n",
    "\n",
    "\n",
    "headers = {'Content-Type':'application/json', 'Authorization':('Bearer '+ api_key)}\n",
    "\n",
    "req = urllib.request.Request(url, body, headers)\n",
    "\n",
    "try:\n",
    "    response = urllib.request.urlopen(req)\n",
    "\n",
    "    result = response.read()\n",
    "    print(result)\n",
    "except urllib.error.HTTPError as error:\n",
    "    print(\"The request failed with status code: \" + str(error.code))\n",
    "\n",
    "    # Print the headers - they include the request ID and the timestamp, which are useful for debugging the failure\n",
    "    print(error.info())\n",
    "    print(error.read().decode(\"utf8\", 'ignore'))\n"
   ]
  },
  {
   "cell_type": "code",
   "execution_count": null,
   "id": "4c308269",
   "metadata": {},
   "outputs": [],
   "source": [
    "measurement_type = st.text_input('Measurement Type (e.g., grams, piece)', 'Grams')"
   ]
  }
 ],
 "metadata": {
  "kernelspec": {
   "display_name": "Python 3 (ipykernel)",
   "language": "python",
   "name": "python3"
  },
  "language_info": {
   "codemirror_mode": {
    "name": "ipython",
    "version": 3
   },
   "file_extension": ".py",
   "mimetype": "text/x-python",
   "name": "python",
   "nbconvert_exporter": "python",
   "pygments_lexer": "ipython3",
   "version": "3.9.13"
  }
 },
 "nbformat": 4,
 "nbformat_minor": 5
}
